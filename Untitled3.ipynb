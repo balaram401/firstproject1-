{
  "nbformat": 4,
  "nbformat_minor": 0,
  "metadata": {
    "colab": {
      "name": "Untitled3.ipynb",
      "provenance": [],
      "collapsed_sections": []
    },
    "kernelspec": {
      "name": "python3",
      "display_name": "Python 3"
    }
  },
  "cells": [
    {
      "cell_type": "code",
      "metadata": {
        "id": "mCAgwXGeIP5n",
        "colab_type": "code",
        "outputId": "7be5e179-e2f6-445b-e879-f1a2c429bf9d",
        "colab": {
          "base_uri": "https://localhost:8080/",
          "height": 34
        }
      },
      "source": [
        "#loops!!\n",
        "for x in range(10):\n",
        "    for y in range(x):\n",
        "        print(y,end=\"\")"
      ],
      "execution_count": 0,
      "outputs": [
        {
          "output_type": "stream",
          "text": [
            "001012012301234012345012345601234567012345678"
          ],
          "name": "stdout"
        }
      ]
    },
    {
      "cell_type": "code",
      "metadata": {
        "id": "PlitI_wRIRVk",
        "colab_type": "code",
        "outputId": "c50cb0a6-ac4a-4887-c214-c4c1c715128d",
        "colab": {
          "base_uri": "https://localhost:8080/",
          "height": 50
        }
      },
      "source": [
        "def votes(params):\n",
        "\tfor vote in params:\n",
        "\t    print(\"Possible option:\" + vote)\n",
        "\n",
        "\n",
        "votes(['tes','no'])"
      ],
      "execution_count": 0,
      "outputs": [
        {
          "output_type": "stream",
          "text": [
            "Possible option:tes\n",
            "Possible option:no\n"
          ],
          "name": "stdout"
        }
      ]
    },
    {
      "cell_type": "code",
      "metadata": {
        "id": "UUfihuWJIq0_",
        "colab_type": "code",
        "colab": {}
      },
      "source": [
        "#---------------------------------------------------------------------------------------\n",
        "#Strings !!"
      ],
      "execution_count": 0,
      "outputs": []
    },
    {
      "cell_type": "code",
      "metadata": {
        "id": "bukwZx1OJIry",
        "colab_type": "code",
        "outputId": "b7efd02c-c2e9-4e86-8633-404a261f8756",
        "colab": {
          "base_uri": "https://localhost:8080/",
          "height": 101
        }
      },
      "source": [
        "name=\"Balaram   \"\n",
        "print(name[0])\n",
        "print(name[-1])\n",
        "print(name[0:])\n",
        "last=7\n",
        "print(name[0:last])#prints from 0 to last-1\n",
        "last=5\n",
        "print(name[0:last])#prints from 0 to last-1\n"
      ],
      "execution_count": 0,
      "outputs": [
        {
          "output_type": "stream",
          "text": [
            "B\n",
            "m\n",
            "Balaram\n",
            "Balaram\n",
            "Balar\n"
          ],
          "name": "stdout"
        }
      ]
    },
    {
      "cell_type": "code",
      "metadata": {
        "id": "iu7Nhbys5ENk",
        "colab_type": "code",
        "outputId": "43a340a3-79f9-4ecd-f42f-9a0749c520ca",
        "colab": {
          "base_uri": "https://localhost:8080/",
          "height": 34
        }
      },
      "source": [
        "print(name*2)#prints names two time"
      ],
      "execution_count": 0,
      "outputs": [
        {
          "output_type": "stream",
          "text": [
            "BalaramBalaram\n"
          ],
          "name": "stdout"
        }
      ]
    },
    {
      "cell_type": "code",
      "metadata": {
        "id": "iyFCY3JK5yOB",
        "colab_type": "code",
        "colab": {}
      },
      "source": [
        "print(name*5+str(len(name)))#you have to convert the int to str to add to string \n",
        "#if not you will get an error \n",
        "                print(name*5+(len(name)))#you have to convert the int to str to add to string\n",
        "#check out the error after executing !\n"
      ],
      "execution_count": 0,
      "outputs": []
    },
    {
      "cell_type": "code",
      "metadata": {
        "id": "3_C6s96o57bm",
        "colab_type": "code",
        "colab": {}
      },
      "source": [
        "#strings are immutable that is they can not chhaged directly !\n",
        "name[4]=\"t\"#you wil get an error"
      ],
      "execution_count": 0,
      "outputs": []
    },
    {
      "cell_type": "code",
      "metadata": {
        "id": "4OfjoKx-6kY6",
        "colab_type": "code",
        "outputId": "8625d944-5ade-43b0-e25f-78a98e241a94",
        "colab": {
          "base_uri": "https://localhost:8080/",
          "height": 34
        }
      },
      "source": [
        "#all you have to do is assign a new string \n",
        "new_name=name[:3]+\"t\"+name[4:]#replacing 4 th character \n",
        "print(new_name)"
      ],
      "execution_count": 0,
      "outputs": [
        {
          "output_type": "stream",
          "text": [
            "Baltram\n"
          ],
          "name": "stdout"
        }
      ]
    },
    {
      "cell_type": "code",
      "metadata": {
        "id": "xwmoKTU27EPD",
        "colab_type": "code",
        "outputId": "75ccbd7d-076b-406a-fd0e-d249fd889cc4",
        "colab": {
          "base_uri": "https://localhost:8080/",
          "height": 34
        }
      },
      "source": [
        "#index method !\n",
        "name.index(\"r\")#index of r is returned !"
      ],
      "execution_count": 0,
      "outputs": [
        {
          "output_type": "execute_result",
          "data": {
            "text/plain": [
              "4"
            ]
          },
          "metadata": {
            "tags": []
          },
          "execution_count": 18
        }
      ]
    },
    {
      "cell_type": "code",
      "metadata": {
        "id": "fYwFvVwt708Y",
        "colab_type": "code",
        "outputId": "4850b857-ecbe-4f97-ac72-01b8822077e7",
        "colab": {
          "base_uri": "https://localhost:8080/",
          "height": 34
        }
      },
      "source": [
        "\"r\" in name# \"in \"method returns if the character or a substring is in the string !"
      ],
      "execution_count": 0,
      "outputs": [
        {
          "output_type": "execute_result",
          "data": {
            "text/plain": [
              "True"
            ]
          },
          "metadata": {
            "tags": []
          },
          "execution_count": 19
        }
      ]
    },
    {
      "cell_type": "code",
      "metadata": {
        "id": "He9bG9IX8Ark",
        "colab_type": "code",
        "outputId": "98950032-1be8-45a9-806c-cdf21f8bf631",
        "colab": {
          "base_uri": "https://localhost:8080/",
          "height": 34
        }
      },
      "source": [
        "text=\"i am going to school\"\n",
        "\"school\" in text # to check if school in text !\n",
        "\"ram\" in text # returns false as ram is not  present in the text !"
      ],
      "execution_count": 0,
      "outputs": [
        {
          "output_type": "execute_result",
          "data": {
            "text/plain": [
              "False"
            ]
          },
          "metadata": {
            "tags": []
          },
          "execution_count": 21
        }
      ]
    },
    {
      "cell_type": "markdown",
      "metadata": {
        "id": "NPhNdcG0KEq2",
        "colab_type": "text"
      },
      "source": [
        "String indexing allows you to access individual characters in a string. You can do this by using square brackets and the location, or index, of the character you want to access. It's important to remember that Python starts indexes at 0. So to access the first character in a string, you would use the index [0]. If you try to access an index that’s larger than the length of your string, you’ll get an ***IndexError***. This is because you’re trying to access something that doesn't exist! You can also access indexes from the end of the string going towards the start of the string by using negative values. The index [-1] would access the last character of the string, and the index [-2] would access the second-to-last character.\n",
        "\n",
        "You can also access a portion of a string, called a slice or a substring. This allows you to access multiple characters of a string. You can do this by creating a range, using a colon as a separator between the start and end of the range, like [2:5]. This range is similar to the range() function we saw previously. It includes the first number, but goes to one less than the last number. You can also easily reference the start or end of the string by leaving one value blank. For example [:5] would give us all characters from the start to the fourth character in the string. We can also use [5:] to get the characters from the fourth character to the end of the string."
      ]
    },
    {
      "cell_type": "code",
      "metadata": {
        "id": "Nvgn5kik8UD1",
        "colab_type": "code",
        "outputId": "abb9fbb1-f58b-44ad-c07b-55d8c7007211",
        "colab": {
          "base_uri": "https://localhost:8080/",
          "height": 34
        }
      },
      "source": [
        "text.replace(\"i\",\"t\")# replace method to replpace:)"
      ],
      "execution_count": 0,
      "outputs": [
        {
          "output_type": "execute_result",
          "data": {
            "text/plain": [
              "'t am gotng to school'"
            ]
          },
          "metadata": {
            "tags": []
          },
          "execution_count": 23
        }
      ]
    },
    {
      "cell_type": "code",
      "metadata": {
        "id": "FOzB5EIs8uTJ",
        "colab_type": "code",
        "outputId": "10a89069-dfb6-4a0c-a461-a295b3a86323",
        "colab": {
          "base_uri": "https://localhost:8080/",
          "height": 34
        }
      },
      "source": [
        "#u can convert upper to lower case a nd vic versa !\n",
        "name.upper()\n",
        "name.lower()"
      ],
      "execution_count": 0,
      "outputs": [
        {
          "output_type": "execute_result",
          "data": {
            "text/plain": [
              "'balaram'"
            ]
          },
          "metadata": {
            "tags": []
          },
          "execution_count": 25
        }
      ]
    },
    {
      "cell_type": "code",
      "metadata": {
        "id": "138K60yF9CfQ",
        "colab_type": "code",
        "colab": {}
      },
      "source": [
        "# strip method to remove any space before and after the string \n",
        "new_text=\"     ran           \""
      ],
      "execution_count": 0,
      "outputs": []
    },
    {
      "cell_type": "code",
      "metadata": {
        "id": "W3ZtVvwD94Vi",
        "colab_type": "code",
        "outputId": "2561e477-e864-4586-879d-1019b7a34660",
        "colab": {
          "base_uri": "https://localhost:8080/",
          "height": 34
        }
      },
      "source": [
        "print(new_text.strip())# this ACTUALLY remove spaces empty strings "
      ],
      "execution_count": 0,
      "outputs": [
        {
          "output_type": "stream",
          "text": [
            "ran\n"
          ],
          "name": "stdout"
        }
      ]
    },
    {
      "cell_type": "code",
      "metadata": {
        "id": "NpHNVTZO98Dz",
        "colab_type": "code",
        "outputId": "a866fcb3-c956-4b78-da69-55726a4a07f6",
        "colab": {
          "base_uri": "https://localhost:8080/",
          "height": 34
        }
      },
      "source": [
        "user=\"YEs\"#this can be converted to any case you want to use in operations !\n",
        "user.lower()\n",
        " "
      ],
      "execution_count": 0,
      "outputs": [
        {
          "output_type": "execute_result",
          "data": {
            "text/plain": [
              "'yes'"
            ]
          },
          "metadata": {
            "tags": []
          },
          "execution_count": 32
        }
      ]
    },
    {
      "cell_type": "code",
      "metadata": {
        "id": "DRGmNu5B-fgX",
        "colab_type": "code",
        "colab": {}
      },
      "source": [
        "# to get the acronym !!!\n",
        "def initials(phrase):\n",
        "    words = phrase.upper()\n",
        "    result = words.split()\n",
        "    for word in words:\n",
        "        result +=word\n",
        "    return result\n",
        "\n",
        "print(initials(\"Universal Serial Bus\")) # Should be: USB\n",
        "print(initials(\"local area network\")) # Should be: LAN\n",
        "print(initials(\"Operating system\")) # Should be: OS"
      ],
      "execution_count": 0,
      "outputs": []
    },
    {
      "cell_type": "code",
      "metadata": {
        "id": "HhyMPgpvBn8i",
        "colab_type": "code",
        "colab": {}
      },
      "source": [
        "def initials(phrase):\n",
        "    words = phrase.upper()\n",
        "    result = words.split()\n",
        "    for i in range (len(result)):\n",
        "      list_new=result[i]\n",
        "      result +=list_new[0]\n",
        "      return result\n",
        "\n",
        "   # for word in words:\n",
        "       # result +=words[0]\n",
        "   \n",
        "\n",
        "print(initials(\"Universal Serial Bus\")) # Should be: USB\n",
        "print(initials(\"local area network\")) # Should be: LAN\n",
        "print(initials(\"Operating system\")) # Should be: OS"
      ],
      "execution_count": 0,
      "outputs": []
    },
    {
      "cell_type": "code",
      "metadata": {
        "id": "0N2YZ9vHC36O",
        "colab_type": "code",
        "outputId": "8b1f6a10-ce57-4be3-995c-3e5f806ce891",
        "colab": {
          "base_uri": "https://localhost:8080/",
          "height": 67
        }
      },
      "source": [
        "def initials(phrase):\n",
        "    words = phrase\n",
        "    result = \"\".join(W[0].upper() for W in words.split())### imp step \n",
        "    return result\n",
        "\n",
        "print(initials(\"Universal Serial Bus\")) # Should be: USB\n",
        "print(initials(\"local area network\")) # Should be: LAN\n",
        "print(initials(\"Operating system\")) # Should be: OS"
      ],
      "execution_count": 0,
      "outputs": [
        {
          "output_type": "stream",
          "text": [
            "USB\n",
            "LAN\n",
            "OS\n"
          ],
          "name": "stdout"
        }
      ]
    },
    {
      "cell_type": "code",
      "metadata": {
        "id": "apMAJx3_HBxK",
        "colab_type": "code",
        "colab": {}
      },
      "source": [
        "# finally done !!\n"
      ],
      "execution_count": 0,
      "outputs": []
    },
    {
      "cell_type": "code",
      "metadata": {
        "id": "mJ4P2QZjIO7O",
        "colab_type": "code",
        "outputId": "c486dd5d-4d40-4a5c-c4da-b74ede0fb06e",
        "colab": {
          "base_uri": "https://localhost:8080/",
          "height": 34
        }
      },
      "source": [
        "name.lstrip()#remove spaces on the lesft side !"
      ],
      "execution_count": 0,
      "outputs": [
        {
          "output_type": "execute_result",
          "data": {
            "text/plain": [
              "'Balaram'"
            ]
          },
          "metadata": {
            "tags": []
          },
          "execution_count": 45
        }
      ]
    },
    {
      "cell_type": "code",
      "metadata": {
        "id": "eLM1fZDIIS6v",
        "colab_type": "code",
        "outputId": "a7485170-6d42-4bd5-8016-46174ac7e60c",
        "colab": {
          "base_uri": "https://localhost:8080/",
          "height": 34
        }
      },
      "source": [
        "name.rstrip()#remove space on the right side "
      ],
      "execution_count": 0,
      "outputs": [
        {
          "output_type": "execute_result",
          "data": {
            "text/plain": [
              "'Balaram'"
            ]
          },
          "metadata": {
            "tags": []
          },
          "execution_count": 47
        }
      ]
    },
    {
      "cell_type": "code",
      "metadata": {
        "id": "jP7Q2d3EIWia",
        "colab_type": "code",
        "colab": {}
      },
      "source": [
        "#join and split are inverse of each other !\n",
        "sample=\"i want to marry you darling;)\"\n",
        "list_sample=sample.split()"
      ],
      "execution_count": 0,
      "outputs": []
    },
    {
      "cell_type": "code",
      "metadata": {
        "id": "77VyO2aZJN9C",
        "colab_type": "code",
        "outputId": "de2daca0-95b6-442a-f7bc-1ba84840eb4b",
        "colab": {
          "base_uri": "https://localhost:8080/",
          "height": 34
        }
      },
      "source": [
        "\" \".join(list_sample)#\"join by a tab space\""
      ],
      "execution_count": 0,
      "outputs": [
        {
          "output_type": "execute_result",
          "data": {
            "text/plain": [
              "'i want to marry you darling;)'"
            ]
          },
          "metadata": {
            "tags": []
          },
          "execution_count": 60
        }
      ]
    },
    {
      "cell_type": "code",
      "metadata": {
        "id": "PE2mM1ZxJXIK",
        "colab_type": "code",
        "outputId": "d5e2e296-2f6e-425d-973a-d1fead33dca6",
        "colab": {
          "base_uri": "https://localhost:8080/",
          "height": 34
        }
      },
      "source": [
        "\"!!!!\".join(list_sample)#join by a !!!!!"
      ],
      "execution_count": 0,
      "outputs": [
        {
          "output_type": "execute_result",
          "data": {
            "text/plain": [
              "'i!!!!want!!!!to!!!!marry!!!!you!!!!darling;)'"
            ]
          },
          "metadata": {
            "tags": []
          },
          "execution_count": 63
        }
      ]
    },
    {
      "cell_type": "code",
      "metadata": {
        "id": "nybng06rJmht",
        "colab_type": "code",
        "colab": {}
      },
      "source": [
        ""
      ],
      "execution_count": 0,
      "outputs": []
    },
    {
      "cell_type": "markdown",
      "metadata": {
        "id": "Q0a0VUMxKWGg",
        "colab_type": "text"
      },
      "source": [
        "## **Advanced String Methods**\n",
        "We've covered a bunch of String class methods already, so let's keep building on those and run down some more advanced methods.\n",
        "\n",
        "The string method lower will return the string with all characters changed to lowercase. The inverse of this is the upper method, which will return the string all in uppercase. Just like with previous methods, we call these on a string using dot notation, like \"this is a string\".upper(). This would return the string \"THIS IS A STRING\". This can be super handy when checking user input, since someone might type in all lowercase, all uppercase, or even a mixture of cases.\n",
        "\n",
        "You can use the strip method to remove surrounding whitespace from a string. Whitespace includes spaces, tabs, and newline characters. You can also use the methods  lstrip and rstrip to remove whitespace only from the left or the right side of the string, respectively.\n",
        "\n",
        "The method count can be used to return the number of times a substring appears in a string. This can be handy for finding out how many characters appear in a string, or counting the number of times a certain word appears in a sentence or paragraph.\n",
        "\n",
        "If you wanted to check if a string ends with a given substring, you can use the method endswith. This will return True if the substring is found at the end of the string, and False if not.\n",
        "\n",
        "The isnumeric method can check if a string is composed of only numbers. If the string contains only numbers, this method will return True. We can use this to check if a string contains numbers before passing the string to the int() function to convert it to an integer, avoiding an error. Useful!\n",
        "\n",
        "We took a look at string concatenation using the plus sign, earlier. We can also use the join method to concatenate strings. This method is called on a string that will be used to join a list of strings. The method takes a list of strings to be joined as a parameter, and returns a new string composed of each of the strings from our list joined using the initial string. For example, \" \".join([\"This\",\"is\",\"a\",\"sentence\"]) would return the string \"This is a sentence\".\n",
        "\n",
        "The inverse of the join method is the split method. This allows us to split a string into a list of strings. By default, it splits by any whitespace characters. You can also split by any other characters by passing a parameter.***"
      ]
    },
    {
      "cell_type": "code",
      "metadata": {
        "id": "JOCI3FW9Kmel",
        "colab_type": "code",
        "outputId": "5216162b-2714-48ec-af0c-be25ac5497f9",
        "colab": {
          "base_uri": "https://localhost:8080/",
          "height": 50
        }
      },
      "source": [
        "#sring formating\n",
        "name=\"balaram\"\n",
        "age=\"20.66\"\n",
        "college=\"BvriT\"\n",
        "college=college.upper()\n",
        "print(\"user name is {n},of age {a}, studying in {c}\".format(n=name,c=college,a=age))\n",
        "print(\"user name is {},of age {:>10}, studying in {}\".format(name,college,age))#observe the difference #order in the format must be same as u desire !#notice the gap after the age here :>10 space have been created !\n",
        "#order is not right ...\n"
      ],
      "execution_count": 0,
      "outputs": [
        {
          "output_type": "stream",
          "text": [
            "user name is balaram,of age 20.66, studying in BVRIT\n",
            "user name is balaram,of age      BVRIT, studying in 20.66\n"
          ],
          "name": "stdout"
        }
      ]
    },
    {
      "cell_type": "code",
      "metadata": {
        "id": "9y4IrFcmfdiY",
        "colab_type": "code",
        "colab": {}
      },
      "source": [
        ""
      ],
      "execution_count": 0,
      "outputs": []
    },
    {
      "cell_type": "markdown",
      "metadata": {
        "id": "IQiiTD0UgpeB",
        "colab_type": "text"
      },
      "source": [
        "#String Reference Cheat Sheet\n",
        "# String Reference Cheat Sheet\n",
        "**In Python, there are a lot of things you can do with strings. In this cheat sheet, you’ll find the most common string operations and string methods**.\n",
        "\n",
        "**tring operations**\n",
        "len(string) Returns the length of the string\n",
        "for character in string Iterates over each character in the string\n",
        "if substring in string Checks whether the substring is part of the string\n",
        "string[i] Accesses the character at index i of the string, starting at zero\n",
        "string[i:j] Accesses the substring starting at index i, ending at index j-1. If i is omitted, it's 0 by default. If j is omitted, it's len(string) by default.\n",
        "**String methods**\n",
        "\n",
        "\n",
        "\n",
        "*string.lower() / string.upper()* Returns a copy of the string with all lower / upper case characters\n",
        "\n",
        "---\n",
        "\n",
        "\n",
        "*string.lstrip() / string.rstrip() / string.strip()* Returns a copy of the string without left / right / left or right whitespace\n",
        "\n",
        "\n",
        "---\n",
        "\n",
        "* Returns the number of times substring is present in the string\n",
        "\n",
        "\n",
        "---\n",
        "\n",
        "\n",
        "*string.isnumeric()* Returns True if there are only numeric characters in the string. If not, returns False.\n",
        "\n",
        "\n",
        "---\n",
        "\n",
        "\n",
        "*string.isalpha()* Returns True if there are only alphabetic characters in the string. If not, returns False.\n",
        "\n",
        "\n",
        "---\n",
        "\n",
        "\n",
        "*string.split() / string.split(delimiter)* Returns a list of substrings that were separated by whitespace / delimiter\n",
        "\n",
        "\n",
        "---\n",
        "\n",
        "\n",
        "*string.replace(old, new)* Returns a new string where all occurrences of old have been replaced by new.\n",
        "\n",
        "\n",
        "---\n",
        "\n",
        "\n",
        "*delimiter.join(list of strings)* Returns a new string with all the strings joined by the delimiter\n",
        "\n",
        "\n",
        "---\n",
        "\n",
        "\n",
        "#Check out the official documentation for all available String methods.\n",
        "\n",
        "\n",
        "\n",
        "\n",
        "\n"
      ]
    },
    {
      "cell_type": "code",
      "metadata": {
        "id": "dYqO4a3uiefe",
        "colab_type": "code",
        "colab": {}
      },
      "source": [
        "#check the official docs in the link !\n"
      ],
      "execution_count": 0,
      "outputs": []
    },
    {
      "cell_type": "code",
      "metadata": {
        "id": "dFFHiOrwin8f",
        "colab_type": "code",
        "outputId": "864952ae-73bf-4a6e-a4c5-1be8492baaa9",
        "colab": {
          "base_uri": "https://localhost:8080/",
          "height": 34
        }
      },
      "source": [
        "# \"base string with {} placeholders\".format(variables)\n",
        "\n",
        "example = \"format() method\"\n",
        "\n",
        "formatted_string = \"this is an example of using the {} on a string\".format(example)\n",
        "\n",
        "print(formatted_string)\n"
      ],
      "execution_count": 0,
      "outputs": [
        {
          "output_type": "stream",
          "text": [
            "this is an example of using the format() method on a string\n"
          ],
          "name": "stdout"
        }
      ]
    },
    {
      "cell_type": "code",
      "metadata": {
        "id": "m5pTtxldjB5W",
        "colab_type": "code",
        "outputId": "64fdfae7-b3c5-4956-8131-b7cb3f71114a",
        "colab": {
          "base_uri": "https://localhost:8080/",
          "height": 34
        }
      },
      "source": [
        "# \"{0} {1}\".format(first, second)\n",
        "\n",
        "first = \"apple\"\n",
        "second = \"banana\"\n",
        "third = \"carrot\"\n",
        "\n",
        "formatted_string = \"{0} {2} {1}\".format(first, second, third)\n",
        "\n",
        "print(formatted_string)\n"
      ],
      "execution_count": 0,
      "outputs": [
        {
          "output_type": "stream",
          "text": [
            "apple carrot banana\n"
          ],
          "name": "stdout"
        }
      ]
    },
    {
      "cell_type": "code",
      "metadata": {
        "id": "v_2DhGyxjLWV",
        "colab_type": "code",
        "colab": {}
      },
      "source": [
        ""
      ],
      "execution_count": 0,
      "outputs": []
    }
  ]
}